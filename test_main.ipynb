{
 "cells": [
  {
   "cell_type": "markdown",
   "metadata": {},
   "source": [
    "## Upload Books"
   ]
  },
  {
   "cell_type": "code",
   "execution_count": 18,
   "metadata": {},
   "outputs": [
    {
     "name": "stdout",
     "output_type": "stream",
     "text": [
      "{\"filename\":\"Advanced Interpersonal Skills.docx\",\"location\":\"books/Advanced Interpersonal Skills.docx\"}\n"
     ]
    }
   ],
   "source": [
    "import requests\n",
    "\n",
    "url = \"http://127.0.0.1:8000\"\n",
    "book_name = \"Advanced Interpersonal Skills.docx\"\n",
    "book_path = r\"C:\\Users\\ranin.abbas\\Downloads\\Advanced Interpersonal Skills.docx\"\n",
    "upload_type = \"application/vnd.openxmlformats-officedocument.wordprocessingml.document\"\n",
    "# upload_type = \"application/pdf\"\n",
    "\n",
    "payload = {}\n",
    "files=[\n",
    "  ('file',(book_name, open(book_path,'rb'), upload_type))\n",
    "]\n",
    "headers = {}\n",
    "\n",
    "response = requests.request(\"POST\", url, headers=headers, data=payload, files=files)\n",
    "\n",
    "print(response.text)"
   ]
  },
  {
   "cell_type": "markdown",
   "metadata": {},
   "source": [
    "## Test Stream Text"
   ]
  },
  {
   "cell_type": "code",
   "execution_count": 20,
   "metadata": {},
   "outputs": [
    {
     "name": "stdout",
     "output_type": "stream",
     "text": [
      "السماع هو عملية استقبال الأصوات من حولنا بدون التركيز على صوت معين. في المثال اللي ذكرته، لما كنت واقف في المحطة وكنت بتسمع أصوات الناس والقطارات والميكروفونات، ده كان اسمه سماع."
     ]
    }
   ],
   "source": [
    "import requests\n",
    "import json\n",
    "\n",
    "stream_url = 'http://localhost:8000/text'\n",
    "data = {\n",
    "    \"text\": \"\"\n",
    "}\n",
    "\n",
    "headers = {'Content-Type': 'application/json'}\n",
    "\n",
    "with requests.post(stream_url, data=json.dumps(data),headers=headers, stream=True) as response:\n",
    "    if response.status_code == 200:\n",
    "        for chunk in response:\n",
    "            print(chunk.decode('utf-8'), end=\"\")\n",
    "    else:\n",
    "        print(\"Failed to connect to the streaming service\")\n"
   ]
  },
  {
   "cell_type": "markdown",
   "metadata": {},
   "source": [
    "## Test Stream Audio"
   ]
  },
  {
   "cell_type": "code",
   "execution_count": 4,
   "metadata": {},
   "outputs": [
    {
     "name": "stdout",
     "output_type": "stream",
     "text": [
      "Streaming completed.\n"
     ]
    }
   ],
   "source": [
    "import requests\n",
    "import json\n",
    "from audio import stream\n",
    "\n",
    "stream_url = 'http://localhost:8080/audio'\n",
    "data = {\n",
    "    \"text\": \"what are are different types and etiologies of tongue and mouth ulcers?\"\n",
    "}   \n",
    "\n",
    "headers = {'Content-Type': 'application/json'}\n",
    "\n",
    "with requests.post(stream_url, data=json.dumps(data),headers=headers, stream=True) as response:\n",
    "    if response.status_code == 200:\n",
    "        stream(response)\n",
    "    else:\n",
    "        print(\"Failed to connect to the streaming service\")\n",
    "\n",
    "print(\"Streaming completed.\")"
   ]
  }
 ],
 "metadata": {
  "kernelspec": {
   "display_name": "mahmoud",
   "language": "python",
   "name": "python3"
  },
  "language_info": {
   "codemirror_mode": {
    "name": "ipython",
    "version": 3
   },
   "file_extension": ".py",
   "mimetype": "text/x-python",
   "name": "python",
   "nbconvert_exporter": "python",
   "pygments_lexer": "ipython3",
   "version": "3.12.1"
  }
 },
 "nbformat": 4,
 "nbformat_minor": 2
}
