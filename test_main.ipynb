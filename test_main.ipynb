{
 "cells": [
  {
   "cell_type": "markdown",
   "metadata": {},
   "source": [
    "## Upload Books"
   ]
  },
  {
   "cell_type": "code",
   "execution_count": 18,
   "metadata": {},
   "outputs": [
    {
     "name": "stdout",
     "output_type": "stream",
     "text": [
      "{\"filename\":\"Advanced Interpersonal Skills.docx\",\"location\":\"books/Advanced Interpersonal Skills.docx\"}\n"
     ]
    }
   ],
   "source": [
    "import requests\n",
    "\n",
    "url = \"http://127.0.0.1:8000\"\n",
    "book_name = \"Advanced Interpersonal Skills.docx\"\n",
    "book_path = r\"C:\\Users\\ranin.abbas\\Downloads\\Advanced Interpersonal Skills.docx\"\n",
    "upload_type = \"application/vnd.openxmlformats-officedocument.wordprocessingml.document\"\n",
    "# upload_type = \"application/pdf\"\n",
    "\n",
    "payload = {}\n",
    "files=[\n",
    "  ('file',(book_name, open(book_path,'rb'), upload_type))\n",
    "]\n",
    "headers = {}\n",
    "\n",
    "response = requests.request(\"POST\", url, headers=headers, data=payload, files=files)\n",
    "\n",
    "print(response.text)"
   ]
  },
  {
   "cell_type": "markdown",
   "metadata": {},
   "source": [
    "## Test Stream Text"
   ]
  },
  {
   "cell_type": "code",
   "execution_count": 20,
   "metadata": {},
   "outputs": [
    {
     "name": "stdout",
     "output_type": "stream",
     "text": [
      "السماع هو عملية استقبال الأصوات من حولنا بدون التركيز على صوت معين. في المثال اللي ذكرته، لما كنت واقف في المحطة وكنت بتسمع أصوات الناس والقطارات والميكروفونات، ده كان اسمه سماع."
     ]
    }
   ],
   "source": [
    "import requests\n",
    "import json\n",
    "\n",
    "stream_url = 'http://localhost:8000/text'\n",
    "data = {\n",
    "    \"text\": \"\"\n",
    "}\n",
    "\n",
    "headers = {'Content-Type': 'application/json'}\n",
    "\n",
    "with requests.post(stream_url, data=json.dumps(data),headers=headers, stream=True) as response:\n",
    "    if response.status_code == 200:\n",
    "        for chunk in response:\n",
    "            print(chunk.decode('utf-8'), end=\"\")\n",
    "    else:\n",
    "        print(\"Failed to connect to the streaming service\")\n"
   ]
  },
  {
   "cell_type": "markdown",
   "metadata": {},
   "source": [
    "## Test Stream Audio"
   ]
  },
  {
   "cell_type": "code",
   "execution_count": 4,
   "metadata": {},
   "outputs": [
    {
     "name": "stdout",
     "output_type": "stream",
     "text": [
      "Streaming completed.\n"
     ]
    }
   ],
   "source": [
    "import requests\n",
    "import json\n",
    "from audio import stream\n",
    "\n",
    "stream_url = 'http://localhost:8080/audio'\n",
    "data = {\n",
    "    \"text\": \"what are are different types and etiologies of tongue and mouth ulcers?\"\n",
    "}   \n",
    "\n",
    "headers = {'Content-Type': 'application/json'}\n",
    "\n",
    "with requests.post(stream_url, data=json.dumps(data),headers=headers, stream=True) as response:\n",
    "    if response.status_code == 200:\n",
    "        stream(response)\n",
    "    else:\n",
    "        print(\"Failed to connect to the streaming service\")\n",
    "\n",
    "print(\"Streaming completed.\")"
   ]
  },
  {
   "cell_type": "code",
   "execution_count": 1,
   "metadata": {},
   "outputs": [
    {
     "name": "stderr",
     "output_type": "stream",
     "text": [
      "e:\\miniconda\\envs\\mahmoud\\Lib\\site-packages\\onnxruntime\\capi\\onnxruntime_validation.py:26: UserWarning: Unsupported Windows version (11). ONNX Runtime supports Windows 10 and above, only.\n",
      "  warnings.warn(\n"
     ]
    }
   ],
   "source": [
    "from embedding import read_json\n",
    "\n",
    "c = r\"courses\\Advanced Interpersonal Skills\\Advanced Interpersonal Skills Script.json\"\n",
    "v = read_json(c)"
   ]
  },
  {
   "cell_type": "code",
   "execution_count": 2,
   "metadata": {},
   "outputs": [
    {
     "data": {
      "text/plain": [
       "'الحلقة 1 \\n العنوان فيديو المقدمة \\n المحتوي الكلام أداة مهمة جدًا في التواصل في الحقيقة اختيار الكلمات ممكن يؤثر على أفكار وسلوك وتصرفات الناس اللى بيسمعونا. وبنفس الطريقه اهتمامنا بالكلمات والطريقه اللي الناس بتتكلم بيها، ممكن يعرفنا هم بالضبط قصدهم يقولوا ايه، ويساعدنا نرد عليهم الرد المناسب والفعال. أهلا بيكم. أنا محمود جميل tv reporter and trainer وهكون معاكم في كورس advanced interpersonal skills في الكورس ده، هنفهم الفرق بين السمع والاستماع، وهنعرف بعض الطرق لتحسين المهارات اللفظية عشان تقدر تتواصل بشكل فعال. هتفهم ايه هو التواصل غير اللفظي وازاي تقدر تبني علاقات شخصية قوية. هتعرف ازاى تمر بمراحل المحادثة من أول مقابلتك لشخص متعرفهوش لحد ما تتقدم لـ مستويات أعلى من المحادثة. هتعرف ازاي تؤثر في الآخرين وتقنعهم، وهتفهم ازاى استخدام المنطق والعواطف هيساعدك تكسب مودة الناس واقناعهم هتتعلم الأربع الخطوات للقيام بعملية تفاوض ناجحة ترضيك أنت والطرف الآخر وأخيرا هتعرف بعض النصائح اللى هتساعدك تسيب تأثير انطباع أولي قوى عند الناس. يلا بينا نبدأ الكورس'"
      ]
     },
     "execution_count": 2,
     "metadata": {},
     "output_type": "execute_result"
    }
   ],
   "source": [
    "v[0].page_content"
   ]
  },
  {
   "cell_type": "code",
   "execution_count": 17,
   "metadata": {},
   "outputs": [
    {
     "data": {
      "text/plain": [
       "{'videoId': 2,\n",
       " 'video_title': 'Listening And Hearingthey Arent The Same Thing',\n",
       " 'paragraphInfo': [{'viewIndex': 1,\n",
       "   'paragraphDetails': 'اغلب الناس بتقدر انها تسمع، بس قليلين اللي فعلا بينصتوا. السماع هو ببساطة عملية استقبال الأصوات اللي في البيئة المحيطة لينا، فافضل طريقه توضح عملية السماع هي عن طريق العمليات الحيوية واللي من ضمن الإدراك الحسي. فبتكون كالاتي وداننا بتلقط موجات صوتية حوالينا، و تبعت اشاره للمخ، و مخنا هو اللي بيقولنا الصوت ده جاي منين و معناه ايه. على الجانب الثاني بقى، الإنصات هو اكتر بكتير من مجرد سماع أصوات حوالينا ومعرفة هي ايه، لانه يتضمن خطوات إضافية لفهم اللي احنا سمعناه، واننا نديله اهتمام وتركيز.'},\n",
       "  {'viewIndex': 2,\n",
       "   'paragraphDetails': 'وتعالوا نشوف مثال يوضح الفرق اكتر ما بين السماع والإنصات تخيل انك واقف في محطة القطر ومنتظر  القطر اللى هتاخده عشان تروح شغلك، في الوقت انت بتسمع أصوات من كل مكان وودانك بتلقط كل الأصوات الموجودة زي صوت الناس اللى بتتكلم مع بعضها وصوت القطارات نفسها وصوت الميكروفونات اللى بتذيع على ميعاد وصول القطر، بالاضافة لصوت أي ماكينات موجودة في المحطة. وبالرغم انك مش مركز على صوت معين من كل الأصوات الا انه بمجرد ما الميكروفون يذيع على ميعاد قطر معين بتلاقى نفسك توقف اللى بتعمله وتسمع ايه اللى بيتقال، لأن  ده المهم بالنسبالك في الحالة دي عشان تعرف القطر اللى هتركبه وصل ولا لسه في المثال ده كل الأصوات اللى ودنك بتلقطها هو ده السماع، لكن تركيزك وانتباهك لصوت الميكروفون بالذات هو ده الإنصات.'},\n",
       "  {'viewIndex': 3,\n",
       "   'paragraphDetails': 'وأثناء كلامك مع الناس فإنك تاخذ الخطوة الإضافية وتنتقل من بس السماع لأنك تنصت، ده هيحسن علاقتك بالناس جدا. الانصات هيؤدي لفهم الشخص اللي قدامك بطريقة دقيقة وسليمة، و هيساعدك انك ترد الرد المناسب. واللي اهم من كده، لما تنصت لحد، بتوصّله انك بتقدّر تماما اللي بيقوله وبتحترمه.'}]}"
      ]
     },
     "execution_count": 17,
     "metadata": {},
     "output_type": "execute_result"
    }
   ],
   "source": [
    "x"
   ]
  },
  {
   "cell_type": "code",
   "execution_count": null,
   "metadata": {},
   "outputs": [],
   "source": []
  }
 ],
 "metadata": {
  "kernelspec": {
   "display_name": "mahmoud",
   "language": "python",
   "name": "python3"
  },
  "language_info": {
   "codemirror_mode": {
    "name": "ipython",
    "version": 3
   },
   "file_extension": ".py",
   "mimetype": "text/x-python",
   "name": "python",
   "nbconvert_exporter": "python",
   "pygments_lexer": "ipython3",
   "version": "3.12.1"
  }
 },
 "nbformat": 4,
 "nbformat_minor": 2
}
